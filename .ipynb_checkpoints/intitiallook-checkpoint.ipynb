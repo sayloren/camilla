{
 "cells": [
  {
   "cell_type": "code",
   "execution_count": 19,
   "metadata": {},
   "outputs": [],
   "source": [
    "import pandas as pd\n",
    "from Bio import SeqIO\n",
    "import random\n",
    "import numpy as np"
   ]
  },
  {
   "cell_type": "code",
   "execution_count": 20,
   "metadata": {},
   "outputs": [],
   "source": [
    "# Resources\n",
    "# https://www.youtube.com/watch?v=bxe2T-V8XRs\n",
    "# https://towardsdatascience.com/lets-code-a-neural-network-in-plain-numpy-ae7e74410795\n",
    "# https://gist.github.com/drudi/ec1e354564a4aaad77f693cc0c80e7fd\n",
    "# https://enlight.nyc/projects/neural-network/\n",
    "# https://scikit-learn.org/stable/modules/generated/sklearn.model_selection.RepeatedKFold.html#sklearn.model_selection.RepeatedKFold"
   ]
  },
  {
   "cell_type": "code",
   "execution_count": 21,
   "metadata": {},
   "outputs": [
    {
     "name": "stdout",
     "output_type": "stream",
     "text": [
      "ID: YAL003W\n",
      "Name: YAL003W\n",
      "Description: YAL003W 5' untranslated region, chrI 141172 - 142171, 1000 bp\n",
      "Number of features: 0\n",
      "Seq('CTTCATGTCAGCCTGCACTTCTGGGTCGTTGAAGTTTCTACCGATCAAACGCTT...ATA', SingleLetterAlphabet())\n",
      "CTTCATGTCAGCCTGCACTTCTGGGTCGTTGAAGTTTCTACCGATCAAACGCTTAGCGTCGAAAACGGTATTCGAAGGATTCATAGCAGCTTGATTCTTAGCAGCATCACCAATCAATCTTTCAGTGTCAGTGAAAGCGACAAAAGATGGAGTGGTTCTGTTACCTTGATCGTTGGCAATAATGTCCACACGATCATTAGCAAAGTGAGCAACACACGAGTATGTTGTACCTAAATCAATACCGACAGCTTTTGACATATTATCTGTTATTTACTTGAATTTTTGTTTCTTGTAATACTTGATTACTTTTCTTTTGATGTGCTTATCTTACAAATAGAGAAAATAAAACAACTTAAGTAAGAATTGGGAAACGAAACTACAACTCAATCCCTTCTCGAAGATACATCAATCCACCCCTTATATAACCTTGAAGTCCTCGAAACGATCAGCTAATCTAAATGGCCCCCCTTCTTTTTGGGTTCTTTCTCTCCCTTTTGCCGCCGATGGAACGTTCTGGAAAAAGAAGAATAATTTAATTACTTTCTCAACTAAAATCTGGAGAAAAAACGCAAATGACAGCTTCTAAACGTTCCGTGTGCTTTCTTTCTAGAATGTTCTGGAAAGTTTACAACAATCCACAAGAACGAAAATGCCGTTGACAATGATGAAACCATCATCCACACACCGCGCACACGTGCTTTATTTCTTTTTCTGAATTTTTTTTTTCCGCCATTTTCAACCAAGGAAATTTTTTTTCTTAGGGCTCAGAACCTGCAGGTGAAGAAGCGCTTTAGAAATCAAAGCACAACGTAACAATTTGTCGACAACCGAGCCTTTGAAGAAAAAATTTTTCACATTGTCGCCTCTAAATAAATAGTTTAAGGTTATCTACCCACTATATTTAGTTGGTTCTTTTTTTTTTCCTTCTACTCTTTATCTTTTTACCTCATGCTTTCTACCTTTCAGCACTGAAGAGTCCAACCGAATATATACACACATA\n"
     ]
    }
   ],
   "source": [
    "# yeast genome as negative training data\n",
    "# 3k fa sequences 1k bases upstream from ORF\n",
    "# possibly some that correspond to single positive seq - remove from training\n",
    "records = list(SeqIO.parse(\"yeast-upstream-1k-negative.fa\", \"fasta\"))\n",
    "print(records[0])\n",
    "print(records[0].seq)"
   ]
  },
  {
   "cell_type": "code",
   "execution_count": 22,
   "metadata": {},
   "outputs": [
    {
     "name": "stdout",
     "output_type": "stream",
     "text": [
      "            sequence  probability\n",
      "0  ACATCCGTGCACCTCCG          1.0\n",
      "137\n"
     ]
    }
   ],
   "source": [
    "# 137 real rap1 binding sites, 17bp long\n",
    "seq_pos = pd.read_csv('rap1-lieb-positives.txt',header=None)\n",
    "seq_pos.columns = ['sequence']\n",
    "seq_pos['probability'] = 1.0\n",
    "print(seq_pos.head(1))\n",
    "print(len(seq_pos))"
   ]
  },
  {
   "cell_type": "code",
   "execution_count": 23,
   "metadata": {},
   "outputs": [
    {
     "name": "stdout",
     "output_type": "stream",
     "text": [
      "3195\n"
     ]
    }
   ],
   "source": [
    "seq_test = pd.read_csv('rap1-lieb-test.txt',header=None)\n",
    "print(len(seq_test))"
   ]
  },
  {
   "cell_type": "code",
   "execution_count": 24,
   "metadata": {},
   "outputs": [],
   "source": [
    "# 1) \n",
    "# linear position weight matrix based on positive sequences\n",
    "# along with model backgroung probabilities of observed sequences\n",
    "# (some caveats listed in pdf)\n",
    "# feed forward, 3 layer neural net with standard sigmoidal units\n",
    "# Vary size input layer, hidden layer, and output layer\n",
    "# must support cross-validation (look at Keiser 2nd presentation on machine learning)\n",
    "# learn 8x3x8 encoder problem"
   ]
  },
  {
   "cell_type": "code",
   "execution_count": 25,
   "metadata": {},
   "outputs": [
    {
     "name": "stdout",
     "output_type": "stream",
     "text": [
      "                                            sequence\n",
      "0  CTTCATGTCAGCCTGCACTTCTGGGTCGTTGAAGTTTCTACCGATC...\n",
      "1  CCAATTTGTCACCAGCTTCAGAAATGGTGTTCTTCAAAGAGTAAGC...\n",
      "2  CACTCATATCGGGGGTCTTACTTCCCATCATAAACACGGACCAAAG...\n",
      "3  AGAGAAAGAGTTTCACTTCTTGATTATCGCTAACACTAATGGTTGA...\n",
      "4  GTGTCCGGGCCTCGCAGGCGTTCTACTAGCAAGACATCCAGTGCGA...\n"
     ]
    }
   ],
   "source": [
    "# collect all the negative sequences into a df\n",
    "# now at 3 hours\n",
    "collect_neg = []\n",
    "for r in records:\n",
    "    seq = ''.join(r.seq)\n",
    "    collect_neg.append(seq)\n",
    "\n",
    "seq_neg = pd.DataFrame({'sequence':collect_neg})\n",
    "print(seq_neg.head())"
   ]
  },
  {
   "cell_type": "code",
   "execution_count": 26,
   "metadata": {},
   "outputs": [
    {
     "name": "stdout",
     "output_type": "stream",
     "text": [
      "                                            sequence\n",
      "0  CTTCATGTCAGCCTGCACTTCTGGGTCGTTGAAGTTTCTACCGATC...\n",
      "1  CCAATTTGTCACCAGCTTCAGAAATGGTGTTCTTCAAAGAGTAAGC...\n",
      "2  CACTCATATCGGGGGTCTTACTTCCCATCATAAACACGGACCAAAG...\n",
      "3  AGAGAAAGAGTTTCACTTCTTGATTATCGCTAACACTAATGGTTGA...\n",
      "4  GTGTCCGGGCCTCGCAGGCGTTCTACTAGCAAGACATCCAGTGCGA...\n",
      "433400\n",
      "   from_pos  from_neg\n",
      "0         1         4\n",
      "1        21        90\n"
     ]
    }
   ],
   "source": [
    "# remove any negative sequence that contains a positive sequence\n",
    "# this is sloppy - removes the whole sequence if the posistive is apart of it...\n",
    "collect_nopos = []\n",
    "doc_nopos = []\n",
    "for i,r in seq_pos.iterrows():\n",
    "    for j,s in seq_neg.iterrows():\n",
    "        if r['sequence'] in s['sequence']:\n",
    "            with_pos = [i,j]\n",
    "            doc_nopos.append(with_pos) \n",
    "        else:\n",
    "            collect_nopos.append(s['sequence'])\n",
    "\n",
    "seq_nopos = pd.DataFrame({'sequence':collect_nopos})\n",
    "print(seq_nopos.head())\n",
    "print(len(seq_nopos))\n",
    "doc_overlap = pd.DataFrame({'from_pos':doc_nopos[0],'from_neg':doc_nopos[1]})\n",
    "print(doc_overlap.head())"
   ]
  },
  {
   "cell_type": "code",
   "execution_count": 27,
   "metadata": {},
   "outputs": [
    {
     "name": "stdout",
     "output_type": "stream",
     "text": [
      "137 137\n"
     ]
    }
   ],
   "source": [
    "collect = []\n",
    "k = 17 # length of binding site\n",
    "pos_list = seq_pos['sequence'].tolist()\n",
    "\n",
    "for i,n in seq_neg.iterrows():\n",
    "    while len(collect) < len(pos_list):\n",
    "        neg_str = n['sequence']\n",
    "        start = random.randint(0,len(neg_str)-k)\n",
    "        sub_string = neg_str[start:start+k]\n",
    "        if sub_string in pos_list:\n",
    "            continue\n",
    "        else:\n",
    "            collect.append(sub_string)\n",
    "print(len(collect),len(pos_list))"
   ]
  },
  {
   "cell_type": "code",
   "execution_count": 28,
   "metadata": {},
   "outputs": [
    {
     "name": "stdout",
     "output_type": "stream",
     "text": [
      "            sequence  probability\n",
      "0  AGGGCTCAGAACCTGCA          0.0\n",
      "1  GAATATATACACACATA          0.0\n",
      "2  TACCTTGATCGTTGGCA          0.0\n",
      "3  AAGAATAATTTAATTAC          0.0\n",
      "4  AGTGTCAGTGAAAGCGA          0.0\n"
     ]
    }
   ],
   "source": [
    "pd_seq = pd.DataFrame(collect)\n",
    "pd_seq.columns = ['sequence']\n",
    "pd_seq['probability'] = 0.0\n",
    "print(pd_seq.head())"
   ]
  },
  {
   "cell_type": "code",
   "execution_count": 29,
   "metadata": {},
   "outputs": [
    {
     "name": "stdout",
     "output_type": "stream",
     "text": [
      "            sequence  probability  \\\n",
      "0  AGGGCTCAGAACCTGCA          0.0   \n",
      "1  GAATATATACACACATA          0.0   \n",
      "2  TACCTTGATCGTTGGCA          0.0   \n",
      "3  AAGAATAATTTAATTAC          0.0   \n",
      "4  AGTGTCAGTGAAAGCGA          0.0   \n",
      "\n",
      "                                              binary  \n",
      "0  [1, 0, 0, 0, 0, 1, 0, 0, 1, 0, 0, 0, 0, 0, 0, ...  \n",
      "1  [1, 0, 0, 0, 0, 1, 0, 0, 1, 0, 0, 0, 0, 1, 0, ...  \n",
      "2  [0, 1, 0, 0, 0, 1, 0, 0, 1, 0, 0, 0, 0, 1, 0, ...  \n",
      "3  [0, 0, 1, 0, 0, 1, 0, 0, 1, 0, 0, 0, 0, 1, 0, ...  \n",
      "4  [1, 0, 0, 0, 0, 1, 0, 0, 1, 0, 0, 0, 0, 0, 0, ...  \n"
     ]
    }
   ],
   "source": [
    "def make_binary_sequence(str_seq):\n",
    "    bin_seq = []\n",
    "    binary_dict = {\"A\": [1,0,0,0],\"C\": [0,1,0,0],\"G\": [0,0,1,0],\"T\": [0,0,0,1]}\n",
    "    temp = [bin_seq.append(binary_dict[s]) for s in str_seq]\n",
    "    return np.array(bin_seq).flatten()\n",
    "\n",
    "pd_seq['binary'] = [make_binary_sequence(seq) for seq in seq_pos['sequence']]\n",
    "print(pd_seq.head())"
   ]
  },
  {
   "cell_type": "code",
   "execution_count": 30,
   "metadata": {},
   "outputs": [
    {
     "name": "stdout",
     "output_type": "stream",
     "text": [
      "2236\n",
      "959\n"
     ]
    }
   ],
   "source": [
    "cutoff = int(len(seq_test)*.7)\n",
    "train = seq_test[:cutoff]\n",
    "test = seq_test[cutoff:]\n",
    "print(len(train))\n",
    "print(len(test))"
   ]
  },
  {
   "cell_type": "code",
   "execution_count": 31,
   "metadata": {},
   "outputs": [
    {
     "name": "stdout",
     "output_type": "stream",
     "text": [
      "137 137 274\n",
      "            sequence  probability  \\\n",
      "0  ACATCCGTGCACCTCCG          1.0   \n",
      "1  ACACCCAGACATCGGGC          1.0   \n",
      "2  CCACCCGTACCCATGAC          1.0   \n",
      "3  GCACCCATACATTACAT          1.0   \n",
      "4  ACATCCATACACCCTCT          1.0   \n",
      "\n",
      "                                              binary  \n",
      "0  [1, 0, 0, 0, 0, 1, 0, 0, 1, 0, 0, 0, 0, 0, 0, ...  \n",
      "1  [1, 0, 0, 0, 0, 1, 0, 0, 1, 0, 0, 0, 0, 1, 0, ...  \n",
      "2  [0, 1, 0, 0, 0, 1, 0, 0, 1, 0, 0, 0, 0, 1, 0, ...  \n",
      "3  [0, 0, 1, 0, 0, 1, 0, 0, 1, 0, 0, 0, 0, 1, 0, ...  \n",
      "4  [1, 0, 0, 0, 0, 1, 0, 0, 1, 0, 0, 0, 0, 0, 0, ...  \n"
     ]
    }
   ],
   "source": [
    "seq_pos\n",
    "seq_pos['binary'] = [make_binary_sequence(seq) for seq in seq_pos['sequence']]\n",
    "\n",
    "concat_pos = pd.concat([seq_pos,pd_seq])\n",
    "print(len(seq_pos),len(pd_seq),len(concat_pos))\n",
    "print(concat_pos.head())"
   ]
  },
  {
   "cell_type": "code",
   "execution_count": 32,
   "metadata": {},
   "outputs": [
    {
     "name": "stdout",
     "output_type": "stream",
     "text": [
      "[[-0.02572519  0.79840656  0.08300596  0.23502525  0.58914407 -0.1007386\n",
      "  -0.25347957  1.66763039]\n",
      " [-0.67155822  1.74991802 -1.55298835  1.44660055  1.42699379 -1.66012563\n",
      "   1.63945736 -0.32125642]\n",
      " [ 1.562404    1.96257558 -0.28279973 -0.28146745  0.01079766 -0.55098996\n",
      "   1.47231272  0.7985505 ]]\n"
     ]
    }
   ],
   "source": [
    "sizes = [8,3,8]\n",
    "weights = [np.random.randn(i, j) for i, j in zip(sizes[:-1], sizes[1:])]\n",
    "# input to hidden, hidden to output\n",
    "print(weights[1])"
   ]
  },
  {
   "cell_type": "code",
   "execution_count": 33,
   "metadata": {},
   "outputs": [
    {
     "name": "stdout",
     "output_type": "stream",
     "text": [
      "(8, 3)\n",
      "(3, 8)\n",
      "[[-0.02572519  0.79840656  0.08300596  0.23502525  0.58914407 -0.1007386\n",
      "  -0.25347957  1.66763039]\n",
      " [-0.67155822  1.74991802 -1.55298835  1.44660055  1.42699379 -1.66012563\n",
      "   1.63945736 -0.32125642]\n",
      " [ 1.562404    1.96257558 -0.28279973 -0.28146745  0.01079766 -0.55098996\n",
      "   1.47231272  0.7985505 ]]\n"
     ]
    }
   ],
   "source": [
    "reverse_weights = [w.T for w in weights]\n",
    "print(weights[0].shape)\n",
    "print(reverse_weights[0].shape)\n",
    "print(weights[-1])"
   ]
  },
  {
   "cell_type": "code",
   "execution_count": 34,
   "metadata": {},
   "outputs": [
    {
     "name": "stdout",
     "output_type": "stream",
     "text": [
      "[[array([1., 0., 0., 0., 0., 0., 0., 0.]), array([1., 0., 0., 0., 0., 0., 0., 0.])], [array([0., 1., 0., 0., 0., 0., 0., 0.]), array([0., 1., 0., 0., 0., 0., 0., 0.])], [array([0., 0., 1., 0., 0., 0., 0., 0.]), array([0., 0., 1., 0., 0., 0., 0., 0.])], [array([0., 0., 0., 1., 0., 0., 0., 0.]), array([0., 0., 0., 1., 0., 0., 0., 0.])], [array([0., 0., 0., 0., 1., 0., 0., 0.]), array([0., 0., 0., 0., 1., 0., 0., 0.])], [array([0., 0., 0., 0., 0., 1., 0., 0.]), array([0., 0., 0., 0., 0., 1., 0., 0.])], [array([0., 0., 0., 0., 0., 0., 1., 0.]), array([0., 0., 0., 0., 0., 0., 1., 0.])], [array([0., 0., 0., 0., 0., 0., 0., 1.]), array([0., 0., 0., 0., 0., 0., 0., 1.])]]\n"
     ]
    }
   ],
   "source": [
    "x = np.identity(8)\n",
    "my_train = [[i,i] for i in x]\n",
    "print(my_train)"
   ]
  },
  {
   "cell_type": "code",
   "execution_count": 35,
   "metadata": {},
   "outputs": [
    {
     "name": "stdout",
     "output_type": "stream",
     "text": [
      "[[0.10636776 0.11612155 0.08693981]\n",
      " [0.8236898  0.81384591 0.84719059]\n",
      " [0.73435557 0.71755686 0.77337629]\n",
      " [0.70595843 0.6774308  0.77062296]\n",
      " [0.27311717 0.26454514 0.29909851]\n",
      " [0.51676906 0.51908024 0.52246266]\n",
      " [0.76590321 0.75485935 0.7877221 ]\n",
      " [0.26171309 0.30967072 0.17307003]]\n"
     ]
    }
   ],
   "source": [
    "neurons = [8,3,8]\n",
    "layers = len(neurons)\n",
    "biases = [np.random.randn(i, 1) for i in neurons[1:]]\n",
    "weights = [np.random.randn(i, j) for i, j in zip(neurons[:-1], neurons[1:])]\n",
    "x = [1,0,0,0,0,0,0,0]\n",
    "y = [1,0,0,0,0,0,0,0]\n",
    "def sigmoid(s):\n",
    "    return 1/(1+np.exp(-s))\n",
    "    \n",
    "outputs = []\n",
    "products = []\n",
    "for w,b in zip(weights,biases):\n",
    "    p = np.dot(w.T, x)+b\n",
    "    products.append(p)\n",
    "    activation = sigmoid(p)\n",
    "    outputs.append(activation)\n",
    "    x = activation\n",
    "print(outputs[-1])"
   ]
  },
  {
   "cell_type": "code",
   "execution_count": 36,
   "metadata": {},
   "outputs": [
    {
     "name": "stdout",
     "output_type": "stream",
     "text": [
      "2\n",
      "1\n"
     ]
    }
   ],
   "source": [
    "neurons = [8,3,8]\n",
    "layers = len(neurons)\n",
    "for i in reversed(range(1,layers)):\n",
    "    print(i)"
   ]
  },
  {
   "cell_type": "code",
   "execution_count": 37,
   "metadata": {},
   "outputs": [
    {
     "data": {
      "text/plain": [
       "array([4, 0, 3, 8, 9, 2, 7, 5, 6, 1])"
      ]
     },
     "execution_count": 37,
     "metadata": {},
     "output_type": "execute_result"
    }
   ],
   "source": [
    "np.random.permutation(10)"
   ]
  },
  {
   "cell_type": "code",
   "execution_count": 38,
   "metadata": {},
   "outputs": [
    {
     "name": "stdout",
     "output_type": "stream",
     "text": [
      "137 274 137\n"
     ]
    }
   ],
   "source": [
    "pos = seq_pos\n",
    "neg = pd.concat([pd_seq,pd_seq])\n",
    "sub_pos = pos.sample((len(neg)-len(pos)))\n",
    "print(len(pos),len(neg),len(sub_pos))"
   ]
  },
  {
   "cell_type": "code",
   "execution_count": 39,
   "metadata": {},
   "outputs": [
    {
     "name": "stdout",
     "output_type": "stream",
     "text": [
      "1.0 0.0\n"
     ]
    },
    {
     "name": "stderr",
     "output_type": "stream",
     "text": [
      "/usr/local/lib/python3.7/site-packages/ipykernel_launcher.py:3: RuntimeWarning: overflow encountered in exp\n",
      "  This is separate from the ipykernel package so we can avoid doing imports until\n"
     ]
    }
   ],
   "source": [
    "def sigmoid(s):\n",
    "    s = float(s)\n",
    "    return 1/(1+np.exp(-s))\n",
    "print(sigmoid(10000000000000000000),sigmoid(-10000000000000000000))"
   ]
  },
  {
   "cell_type": "code",
   "execution_count": 40,
   "metadata": {},
   "outputs": [
    {
     "name": "stdout",
     "output_type": "stream",
     "text": [
      "1.0\n"
     ]
    }
   ],
   "source": [
    "error_list = [1,1,1,1,1]\n",
    "print(sum(error_list)/len(error_list))"
   ]
  },
  {
   "cell_type": "code",
   "execution_count": 41,
   "metadata": {},
   "outputs": [
    {
     "name": "stdout",
     "output_type": "stream",
     "text": [
      "[4 5 6 2 3 1 7 0]\n",
      "[1 7 0]\n"
     ]
    }
   ],
   "source": [
    "df = np.identity(8)\n",
    "df_shuffle = np.random.permutation(len(x))\n",
    "cutoff = int(len(df_shuffle)*.7)\n",
    "train_index = df_shuffle[:cutoff]\n",
    "hold_index = df_shuffle[cutoff:]\n",
    "print(df_shuffle)\n",
    "print(hold_index)"
   ]
  },
  {
   "cell_type": "code",
   "execution_count": 42,
   "metadata": {},
   "outputs": [
    {
     "name": "stdout",
     "output_type": "stream",
     "text": [
      "yup\n"
     ]
    }
   ],
   "source": [
    "list = [np.nan,np.nan,1]\n",
    "if np.isnan(list).any():\n",
    "    print('yup')"
   ]
  },
  {
   "cell_type": "code",
   "execution_count": 43,
   "metadata": {},
   "outputs": [
    {
     "data": {
      "text/plain": [
       "array([[ 0.57478524, -1.33204094,  0.16601857],\n",
       "       [-1.59936991, -1.57107893, -0.20001066],\n",
       "       [ 0.83848722,  0.84269257, -0.26069433],\n",
       "       [-1.38346075,  0.64032684,  1.05442608],\n",
       "       [ 0.63401388,  0.25237333,  1.83018417],\n",
       "       [ 0.84324512, -0.75656709, -1.34603964],\n",
       "       [-0.28992746,  0.18024153,  0.81370334],\n",
       "       [ 0.21263132,  1.91294354, -0.75688669]])"
      ]
     },
     "execution_count": 43,
     "metadata": {},
     "output_type": "execute_result"
    }
   ],
   "source": [
    "np.random.randn(8,3)"
   ]
  },
  {
   "cell_type": "code",
   "execution_count": 44,
   "metadata": {},
   "outputs": [
    {
     "name": "stdout",
     "output_type": "stream",
     "text": [
      "[1. 1. 1. 1. 1. 1. 1. 1.] [0.75 1.   0.75 0.75 0.75 0.75 0.75 0.75]\n",
      "[[0. 0. 0. 0. 0. 0. 0. 1.]\n",
      " [0. 1. 0. 0. 0. 0. 0. 0.]\n",
      " [0. 0. 0. 0. 1. 0. 0. 0.]\n",
      " [1. 0. 0. 0. 0. 0. 0. 0.]\n",
      " [0. 0. 0. 1. 0. 0. 0. 0.]\n",
      " [0. 0. 1. 0. 0. 0. 0. 0.]\n",
      " [0. 0. 0. 0. 0. 1. 0. 0.]\n",
      " [0. 0. 0. 0. 0. 0. 1. 0.]]\n"
     ]
    }
   ],
   "source": [
    "x = np.identity(8)\n",
    "y = np.identity(8)\n",
    "shuffle = np.random.permutation(len(x))\n",
    "t = x[shuffle]\n",
    "best = sum(x==y)\n",
    "print(sum(x==y)/best,sum(x==t)/best)\n",
    "print(t)"
   ]
  },
  {
   "cell_type": "code",
   "execution_count": 153,
   "metadata": {
    "scrolled": false
   },
   "outputs": [],
   "source": [
    "### make network structure\n",
    "# https://medium.com/technology-invention-and-more/how-to-build-a-multi-layered-neural-network-in-python-53ec3d1d326a\n",
    "# https://enlight.nyc/projects/neural-network/\n",
    "# https://www.kdnuggets.com/2018/10/simple-neural-network-python.html\n",
    "# https://www.python-course.eu/neural_networks_with_python_numpy.php\n",
    "# favorite:\n",
    "# https://dev.to/shamdasani/build-a-flexible-neural-network-with-backpropagation-in-python\n",
    "from sklearn.metrics import mean_squared_error\n",
    "\n",
    "class NeuralNetwork(object):\n",
    "    np.random.seed(10)\n",
    "    \n",
    "    def __init__(self,neurons):\n",
    "        self.neurons = neurons\n",
    "        self.layers = len(neurons)\n",
    "        self.biases = [np.random.randn(i) for i in neurons[1:]]\n",
    "        self.weights = [np.random.randn(i, j) for i, j in zip(neurons[:-1], neurons[1:])]\n",
    "        \n",
    "    def feed_forward(self,x):\n",
    "        outputs = []\n",
    "        products = []\n",
    "        for w,b in zip(self.weights,self.biases):\n",
    "            product = np.dot(x, w)+b\n",
    "            products.append(product)\n",
    "            activation = sigmoid(product).round(2)\n",
    "            outputs.append(activation)\n",
    "            x = activation\n",
    "        return outputs,products\n",
    "    \n",
    "    def backward_propogation(self,x,y,outputs,products):\n",
    "        weight_deltas = []\n",
    "        bias_deltas = []\n",
    "        previous_delta = outputs[-1]-y\n",
    "        delta_error_product = previous_delta * sigmoid_derivative(products[-1])\n",
    "        bias_deltas.append(delta_error_product)\n",
    "        weight_deltas.append(np.dot(delta_error_product, outputs[-1].T))\n",
    "        inputs = [x] + outputs[:-1]\n",
    "        for i in range(2, self.layers):\n",
    "            delta_error = sigmoid_derivative(products[-i])\n",
    "            delta_error_product = np.dot(self.weights[-i+1], delta_error_product) * delta_error\n",
    "            bias_deltas.append(delta_error_product)\n",
    "            weight_deltas.append(np.dot(delta_error_product, inputs[-i+1]))\n",
    "        reverse_weight = reversed(weight_deltas)\n",
    "        reverse_bias = reversed(bias_deltas)\n",
    "        return reverse_weight,reverse_bias\n",
    "\n",
    "    def training_step(self,x,y,learning_rate):\n",
    "        collect_outputs = []\n",
    "        for x_i,y_i in zip(x,y):\n",
    "            outputs,products = self.feed_forward(x_i)\n",
    "            collect_outputs.append(outputs[-1])\n",
    "            weight_delta,bias_delta = self.backward_propogation(x_i,y_i,outputs,products)\n",
    "            for (w,b,dw,db) in zip(self.weights,self.biases,weight_delta,bias_delta):\n",
    "                b-=learning_rate*db\n",
    "                w-=learning_rate*((dw.T/self.layers)) # normalized\n",
    "#                 w-=learning_rate*dw.T\n",
    "        return collect_outputs\n",
    "\n",
    "    def gradient_descent(self,x,y,epochs,learning_rate):\n",
    "        shuffle_index = np.random.permutation(len(x))\n",
    "        cutoff = int(len(shuffle_index)*.7)\n",
    "        train_index = shuffle_index[:cutoff]\n",
    "        hold_index = shuffle_index[cutoff:]\n",
    "        error_list = []\n",
    "        previous_out = []\n",
    "        test_len = 100\n",
    "        for i in range(epochs):\n",
    "            _ = self.training_step(x[train_index],y[train_index],learning_rate)\n",
    "            outputs = self.training_step(x[hold_index],y[hold_index],learning_rate)\n",
    "            mean_sq_error = mean_squared_error(y[hold_index],outputs)\n",
    "            error_list.append(mean_sq_error)\n",
    "            if len(error_list) < test_len:\n",
    "                pass\n",
    "            elif sum(error_list[-test_len:])/test_len == error_list[-1]:\n",
    "                pass\n",
    "            else:\n",
    "                print('Converged after {0} epochs'.format(i))\n",
    "                break\n",
    "        return error_list,i\n",
    "    \n",
    "def evaluate_identity(y,p):\n",
    "    best_case=sum(y==y)\n",
    "    evaluate=sum(y==p)/best_case\n",
    "    return evaluate\n",
    "        \n",
    "def sigmoid(s):\n",
    "    return 1/(1+np.exp(np.float64(-s)))\n",
    "    \n",
    "def sigmoid_derivative(s):\n",
    "    return sigmoid(np.float64(s)) * (1 - sigmoid(np.float64(s)))"
   ]
  },
  {
   "cell_type": "code",
   "execution_count": 46,
   "metadata": {
    "scrolled": false
   },
   "outputs": [
    {
     "name": "stdout",
     "output_type": "stream",
     "text": [
      "Converged after 99 epochs\n",
      "final error: 0.1250875\n",
      "[[0.   0.   0.   0.03 0.   0.   0.   0.01]\n",
      " [0.   0.   0.   0.02 0.   0.   0.   0.01]\n",
      " [0.   0.   0.   0.01 0.   0.   0.   0.  ]\n",
      " [0.01 0.   0.   0.06 0.   0.   0.   0.04]\n",
      " [0.01 0.   0.   0.05 0.   0.   0.   0.04]\n",
      " [0.   0.   0.   0.03 0.   0.   0.   0.01]\n",
      " [0.02 0.   0.   0.06 0.   0.   0.01 0.05]\n",
      " [0.01 0.   0.   0.04 0.   0.   0.   0.01]]\n",
      "best case is [1. 1. 1. 1. 1. 1. 1. 1.]\n",
      "predicted is [0.375 0.875 0.875 0.    0.875 0.875 0.875 0.125]\n"
     ]
    }
   ],
   "source": [
    "### Training ###\n",
    "# 8 3 8 \n",
    "my_neurons = [8,5,8]\n",
    "x = np.identity(8)\n",
    "y = np.identity(8)\n",
    "\n",
    "epochs = 100\n",
    "learning_rate = 28\n",
    "\n",
    "NN = NeuralNetwork(my_neurons)\n",
    "error_list,epochs_run = NN.gradient_descent(x,y,epochs,learning_rate)\n",
    "prediction,_ = NN.feed_forward(np.identity(8))\n",
    "print('final error: {0}'.format(error_list[-1]))\n",
    "print(prediction[-1])\n",
    "print('best case is {0}'.format(evaluate_identity(y,y)))\n",
    "print('predicted is {0}'.format(evaluate_identity(y,prediction[-1])))"
   ]
  },
  {
   "cell_type": "code",
   "execution_count": 47,
   "metadata": {},
   "outputs": [
    {
     "name": "stdout",
     "output_type": "stream",
     "text": [
      "Converged after 99 epochs\n",
      "final error: 1.708333333333333\n",
      "[[0. 0. 0. 0. 0. 0. 0. 0.]\n",
      " [0. 0. 0. 0. 0. 0. 0. 0.]\n",
      " [0. 0. 0. 0. 0. 0. 0. 0.]\n",
      " [0. 0. 0. 0. 0. 0. 0. 0.]\n",
      " [0. 0. 0. 0. 0. 0. 0. 0.]\n",
      " [0. 0. 0. 0. 0. 0. 0. 0.]\n",
      " [0. 0. 0. 0. 0. 0. 0. 0.]\n",
      " [0. 0. 0. 0. 0. 0. 0. 0.]]\n",
      "best case is [1. 1. 1. 1. 1. 1. 1. 1.]\n",
      "predicted is [0.875 0.875 0.875 0.875 0.875 0.875 0.875 0.875]\n",
      "[[1. 0. 0. 0. 0. 0. 0. 0.]\n",
      " [0. 2. 0. 0. 0. 0. 0. 0.]\n",
      " [0. 0. 3. 0. 0. 0. 0. 0.]\n",
      " [0. 0. 0. 4. 0. 0. 0. 0.]\n",
      " [0. 0. 0. 0. 1. 0. 0. 0.]\n",
      " [0. 0. 0. 0. 0. 2. 0. 0.]\n",
      " [0. 0. 0. 0. 0. 0. 3. 0.]\n",
      " [0. 0. 0. 0. 0. 0. 0. 4.]]\n"
     ]
    }
   ],
   "source": [
    "A = np.zeros((8, 8))\n",
    "np.fill_diagonal(A, np.arange(4)+1)\n",
    "\n",
    "my_neurons = [8,5,8]\n",
    "x = np.maximum( A, A.transpose() )\n",
    "y = np.maximum( A, A.transpose() )\n",
    "\n",
    "epochs = 100\n",
    "learning_rate = 28\n",
    "\n",
    "NN = NeuralNetwork(my_neurons)\n",
    "error_list,epochs_run = NN.gradient_descent(x,y,epochs,learning_rate)\n",
    "prediction,_ = NN.feed_forward(np.identity(8))\n",
    "print('final error: {0}'.format(error_list[-1]))\n",
    "print(prediction[-1])\n",
    "print('best case is {0}'.format(evaluate_identity(y,y)))\n",
    "print('predicted is {0}'.format(evaluate_identity(y,prediction[-1])))\n",
    "print(y)"
   ]
  },
  {
   "cell_type": "code",
   "execution_count": 48,
   "metadata": {},
   "outputs": [],
   "source": [
    "half = int(epochs_run/2)\n",
    "quart = int(half/2)\n",
    "import matplotlib.pyplot as plt\n",
    "ax2 = plt.subplot(321)\n",
    "ax2.plot(error_list[:quart])\n",
    "ax2.title.set_text('Epochs 0-{0}'.format(quart))\n",
    "ax3 = plt.subplot(322)\n",
    "ax3.plot(error_list[quart:half])\n",
    "ax3.title.set_text('Epochs {0}-{1}'.format(quart,half))\n",
    "ax4 = plt.subplot(323)\n",
    "ax4.plot(error_list[half:half+quart])\n",
    "ax4.title.set_text('Epochs {0}-{1}'.format(half,half+quart))\n",
    "ax5 = plt.subplot(324)\n",
    "ax5.plot(error_list[half+quart:])\n",
    "ax5.title.set_text('Epochs {0}-{1}'.format(half+quart,epochs_run))\n",
    "ax1 = plt.subplot(325)\n",
    "ax1.plot(error_list)\n",
    "ax1.title.set_text('All {0} Epochs'.format(epochs_run))\n",
    "plt.subplots_adjust(hspace=.75)\n",
    "plt.subplots_adjust(wspace=.5)"
   ]
  },
  {
   "cell_type": "code",
   "execution_count": 49,
   "metadata": {},
   "outputs": [
    {
     "name": "stdout",
     "output_type": "stream",
     "text": [
      "            sequence                                             binary\n",
      "0  AAAAAAACGCAACTAAT  [1, 0, 0, 0, 1, 0, 0, 0, 1, 0, 0, 0, 1, 0, 0, ...\n",
      "1  AAAAACACACATCTGGC  [1, 0, 0, 0, 1, 0, 0, 0, 1, 0, 0, 0, 1, 0, 0, ...\n",
      "2  AAAACCAAACACCTGAA  [1, 0, 0, 0, 1, 0, 0, 0, 1, 0, 0, 0, 1, 0, 0, ...\n",
      "3  AAAACCAAACAGCTCAG  [1, 0, 0, 0, 1, 0, 0, 0, 1, 0, 0, 0, 1, 0, 0, ...\n",
      "4  AAAACCAAACATATCAA  [1, 0, 0, 0, 1, 0, 0, 0, 1, 0, 0, 0, 1, 0, 0, ...\n"
     ]
    }
   ],
   "source": [
    "seq_test.columns = ['sequence']\n",
    "seq_test['binary'] = [make_binary_sequence(seq) for seq in seq_test['sequence']]\n",
    "print(seq_test.head())"
   ]
  },
  {
   "cell_type": "code",
   "execution_count": 50,
   "metadata": {},
   "outputs": [
    {
     "name": "stdout",
     "output_type": "stream",
     "text": [
      "Converged after 99 epochs\n",
      "274 274\n",
      "   probability           sequence\n",
      "0         0.92  ACATCCGTGCACCTCCG\n",
      "0         0.92  AGGGCTCAGAACCTGCA\n",
      "1         0.92  ACACCCAGACATCGGGC\n",
      "1         0.92  GAATATATACACACATA\n",
      "2         0.92  CCACCCGTACCCATGAC\n",
      "best case is [1.]\n",
      "predicted is [0.]\n"
     ]
    }
   ],
   "source": [
    "#https://stats.stackexchange.com/questions/352036/what-should-i-do-when-my-neural-network-doesnt-learn\n",
    "\n",
    "### Training ###\n",
    "# Sequences\n",
    "# my_neurons=[68,34,17,9,3,1]\n",
    "my_neurons=[68,34,17,9,1]\n",
    "x = np.array(pd.DataFrame(concat_pos.binary.values.tolist()))\n",
    "y = np.array(pd.DataFrame(concat_pos.probability.values.tolist()))\n",
    "test = np.array(pd.DataFrame(concat_pos.binary.values.tolist()))\n",
    "\n",
    "epochs = 10000\n",
    "learning_rate = 18\n",
    "\n",
    "NN = NeuralNetwork(my_neurons)\n",
    "error_list,epochs_run = NN.gradient_descent(x,y,epochs,learning_rate)\n",
    "# print(error_list[-1])\n",
    "# print(outputs[-1])\n",
    "prediction,_ = NN.feed_forward(test)\n",
    "\n",
    "# df = {'probability':[prediction[-1]],'sequence':[test['sequence']]}\n",
    "pd_prob = pd.DataFrame(prediction[-1])\n",
    "pd_prob.columns = ['probability']\n",
    "print(len(concat_pos['sequence']),len(pd_prob))\n",
    "pd_concat = pd_prob.join(concat_pos['sequence'])\n",
    "print(pd_concat.head())\n",
    "\n",
    "print('best case is {0}'.format(evaluate_identity(y,y)))\n",
    "print('predicted is {0}'.format(evaluate_identity(y,prediction[-1])))"
   ]
  },
  {
   "cell_type": "code",
   "execution_count": 51,
   "metadata": {},
   "outputs": [
    {
     "name": "stdout",
     "output_type": "stream",
     "text": [
      "                   0\n",
      "0  ACATCCGTGCACCTCCG\n",
      "0  AGGGCTCAGAACCTGCA\n",
      "1  ACACCCAGACATCGGGC\n",
      "1  GAATATATACACACATA\n",
      "2  CCACCCGTACCCATGAC\n",
      "0  CGGAGGTGCACGGATGT\n",
      "1  TGCAGGTTCTGAGCCCT\n",
      "2  GCCCGATGTCTGGGTGT\n",
      "3  TATGTGTGTATATATTC\n",
      "4  GTCATGGGTACGGGTGG\n"
     ]
    }
   ],
   "source": [
    "def reverse_complement_dictionary(sequence):\n",
    "    seqDict = {'A':'T','T':'A','C':'G','G':'C','N':'N'}\n",
    "    return \"\".join([seqDict[base] for base in reversed(sequence)])\n",
    "\n",
    "head = pd_concat['sequence'].head()\n",
    "reverse = [reverse_complement_dictionary(i) for i in head]\n",
    "# reverse=head.apply(lambda row: reverse_complement_dictionary(row['sequence']),axis=1)\n",
    "cat = pd.concat([head,pd.DataFrame(reverse)])\n",
    "print(cat)"
   ]
  },
  {
   "cell_type": "code",
   "execution_count": 58,
   "metadata": {},
   "outputs": [
    {
     "name": "stdout",
     "output_type": "stream",
     "text": [
      "            sequence\n",
      "0  ACATCCGTGCACCTCCG\n",
      "0  AGGGCTCAGAACCTGCA\n",
      "1  ACACCCAGACATCGGGC\n",
      "1  GAATATATACACACATA\n",
      "2  CCACCCGTACCCATGAC\n",
      "0  CGGAGGTGCACGGATGT\n",
      "1  TGCAGGTTCTGAGCCCT\n",
      "2  GCCCGATGTCTGGGTGT\n",
      "3  TATGTGTGTATATATTC\n",
      "4  GTCATGGGTACGGGTGG   sequence\n",
      "0      TCC\n",
      "1   GAGGTG\n",
      "2   CCCAGA              sequence\n",
      "0         ACAGTGCACCG\n",
      "1   ACATCCGTGCACCTCCG\n",
      "2   ACATCCGTGCACCTCCG\n",
      "3   AGGGCTCAGAACCTGCA\n",
      "4   AGGGCTCAGAACCTGCA\n",
      "5   AGGGCTCAGAACCTGCA\n",
      "6   ACACCCAGACATCGGGC\n",
      "7   ACACCCAGACATCGGGC\n",
      "8         ACACATCGGGC\n",
      "9   GAATATATACACACATA\n",
      "10  GAATATATACACACATA\n",
      "11  GAATATATACACACATA\n",
      "12  CCACCCGTACCCATGAC\n",
      "13  CCACCCGTACCCATGAC\n",
      "14  CCACCCGTACCCATGAC\n",
      "15  CGGAGGTGCACGGATGT\n",
      "16        CGCACGGATGT\n",
      "17  CGGAGGTGCACGGATGT\n",
      "18  TGCAGGTTCTGAGCCCT\n",
      "19  TGCAGGTTCTGAGCCCT\n",
      "20  TGCAGGTTCTGAGCCCT\n",
      "21  GCCCGATGTCTGGGTGT\n",
      "22  GCCCGATGTCTGGGTGT\n",
      "23  GCCCGATGTCTGGGTGT\n",
      "24  TATGTGTGTATATATTC\n",
      "25  TATGTGTGTATATATTC\n",
      "26  TATGTGTGTATATATTC\n",
      "27  GTCATGGGTACGGGTGG\n",
      "28  GTCATGGGTACGGGTGG\n",
      "29  GTCATGGGTACGGGTGG\n"
     ]
    }
   ],
   "source": [
    "import re\n",
    "cat.columns = ['sequence']\n",
    "df = {'sequence':['TCC','GAGGTG','CCCAGA']}\n",
    "short = pd.DataFrame(df)\n",
    "\n",
    "def remove_positives(pos,neg):\n",
    "    '''\n",
    "    remove all negative sequences that contain positives\n",
    "    make panda for which positive and negative sequences overlap,\n",
    "    incase need later\n",
    "    '''\n",
    "    collect = []\n",
    "\n",
    "    # for each row in pos sequences, go through the negative rows\n",
    "    # if the positive sequece is in the negative, collect those indeces to\n",
    "    # overlap list, other wise, collect the sequence\n",
    "    pos_seq = pos['sequence'].tolist()\n",
    "    neg_seq = neg['sequence'].tolist()\n",
    "    for n in neg_seq:\n",
    "        for p in pos_seq:\n",
    "            collect.append(n.replace(p, \"\"))\n",
    "    pd_seq = pd.DataFrame({'sequence':collect})\n",
    "    return pd_seq\n",
    "\n",
    "print(cat,short,remove_positives(short,cat))\n"
   ]
  },
  {
   "cell_type": "code",
   "execution_count": 120,
   "metadata": {},
   "outputs": [
    {
     "name": "stdout",
     "output_type": "stream",
     "text": [
      "   index           sequence  probability  \\\n",
      "0    130  GAATCCGTACATTTAGA          1.0   \n",
      "1    131  ACACCCAAGCACAGCAT          1.0   \n",
      "4    134  AGACCCATACATCACAA          1.0   \n",
      "1    131  ACACCCAAGCACAGCAT          1.0   \n",
      "3    133  ACACCCATACCTTTAGG          1.0   \n",
      "5    135  TAACCCATACACCTCAT          1.0   \n",
      "1    131  ACACCCAAGCACAGCAT          1.0   \n",
      "2    132  GAATCCTTACATCACAC          1.0   \n",
      "1    131  ACACCCAAGCACAGCAT          1.0   \n",
      "3    133  ACACCCATACCTTTAGG          1.0   \n",
      "\n",
      "                                              binary  \n",
      "0  [0, 0, 1, 0, 1, 0, 0, 0, 1, 0, 0, 0, 0, 0, 0, ...  \n",
      "1  [1, 0, 0, 0, 0, 1, 0, 0, 1, 0, 0, 0, 0, 1, 0, ...  \n",
      "4  [1, 0, 0, 0, 0, 0, 1, 0, 1, 0, 0, 0, 0, 1, 0, ...  \n",
      "1  [1, 0, 0, 0, 0, 1, 0, 0, 1, 0, 0, 0, 0, 1, 0, ...  \n",
      "3  [1, 0, 0, 0, 0, 1, 0, 0, 1, 0, 0, 0, 0, 1, 0, ...  \n",
      "5  [0, 0, 0, 1, 1, 0, 0, 0, 1, 0, 0, 0, 0, 1, 0, ...  \n",
      "1  [1, 0, 0, 0, 0, 1, 0, 0, 1, 0, 0, 0, 0, 1, 0, ...  \n",
      "2  [0, 0, 1, 0, 1, 0, 0, 0, 1, 0, 0, 0, 0, 0, 0, ...  \n",
      "1  [1, 0, 0, 0, 0, 1, 0, 0, 1, 0, 0, 0, 0, 1, 0, ...  \n",
      "3  [1, 0, 0, 0, 0, 1, 0, 0, 1, 0, 0, 0, 0, 1, 0, ...  \n"
     ]
    }
   ],
   "source": [
    "seq_1 = seq_pos.head(17)\n",
    "seq_2 = seq_pos.tail(7)\n",
    "seq_2.reset_index(inplace=True)\n",
    "num_pos = len(seq_1)-len(seq_2)\n",
    "collect = []\n",
    "for i in range(num_pos):\n",
    "#     rand_index = np.random.randint(len(seq_2))\n",
    "    collect.append(seq_2.sample(1))\n",
    "\n",
    "print(pd.concat(collect))"
   ]
  },
  {
   "cell_type": "code",
   "execution_count": 139,
   "metadata": {
    "scrolled": true
   },
   "outputs": [],
   "source": [
    "from sklearn.metrics import roc_curve, auc\n",
    "# def perf_measure(y, p):\n",
    "#     TP,FP,TN,FN = 0,0,0,0\n",
    "#     for i in range(len(y)): \n",
    "#         if y[i]==p[i]==1:\n",
    "#            TP += 1\n",
    "#         if p[i]==1 and y[i]!=p[i]:\n",
    "#            FP += 1\n",
    "#         if y[i]==p[i]==0:\n",
    "#            TN += 1\n",
    "#         if p[i]==0 and y[i]!=p[i]:\n",
    "#            FN += 1\n",
    "#     return(TP, FP, TN, FN)\n",
    "# t = perf_measure(y, outputs[-1])\n",
    "\n",
    "# roc_auc_score(y, outputs[-1])\n",
    "\n",
    "# plt.figure()\n",
    "# plt.plot(fpr[2], tpr[2], color='darkorange',label='ROC curve (area = %0.2f)' % roc_auc[2])\n",
    "# plt.plot([0, 1], [0, 1], color='navy', lw=lw, linestyle='--')\n",
    "# plt.xlim([0.0, 1.0])\n",
    "# plt.ylim([0.0, 1.05])\n",
    "# plt.xlabel('False Positive Rate')\n",
    "# plt.ylabel('True Positive Rate')\n",
    "# plt.title('Receiver operating characteristic example')\n",
    "# plt.legend(loc=\"lower right\")\n",
    "# plt.show()"
   ]
  },
  {
   "cell_type": "code",
   "execution_count": 130,
   "metadata": {},
   "outputs": [],
   "source": [
    "'''\n",
    "Script to read in the data sets\n",
    "Wren Saylor 2019\n",
    "'''\n",
    "import pandas as pd\n",
    "from Bio import SeqIO,Seq\n",
    "import numpy as np\n",
    "import random\n",
    "\n",
    "def reverse_complement_dictionary(sequence):\n",
    "    '''\n",
    "    dicationary with reverse complement nucs\n",
    "    '''\n",
    "    seqDict = {'A':'T','T':'A','C':'G','G':'C','N':'N'}\n",
    "    return \"\".join([seqDict[base] for base in reversed(sequence)])\n",
    "\n",
    "def read_from_csv(file,value):\n",
    "    '''\n",
    "    for those data sets from csv files, read into panda\n",
    "    add sequence and probability columns, get revese complement to boost #s\n",
    "    '''\n",
    "    pd_seq = pd.read_csv(file,header=None)\n",
    "\n",
    "    # label columns and make probabilty\n",
    "    pd_seq.columns = ['sequence']\n",
    "    pd_seq['probability'] = value\n",
    "\n",
    "    # make binary sequence, where each letter is coded as 4 digit 0/1\n",
    "    pd_seq['binary'] = [make_binary_sequence(seq) for seq in pd_seq['sequence']]\n",
    "    return pd_seq\n",
    "\n",
    "def read_from_fa(file):\n",
    "    '''\n",
    "    for those data sets from fa files (the negative sequences)\n",
    "    '''\n",
    "    records = SeqIO.parse(file, \"fasta\")\n",
    "\n",
    "    # get just the sequences from the record\n",
    "    collect = []\n",
    "\n",
    "    # collect just the sequences\n",
    "    for r in records:\n",
    "        seq = ''.join(r.seq)\n",
    "        collect.append(seq)\n",
    "    return pd.DataFrame({'sequence':collect})\n",
    "\n",
    "def remove_positives(pos,neg):\n",
    "    '''\n",
    "    remove all negative sequences that contain positives\n",
    "    make panda for which positive and negative sequences overlap,\n",
    "    incase need later\n",
    "    '''\n",
    "    collect = []\n",
    "\n",
    "    # for each row in pos sequences, go through the negative rows\n",
    "    # if the positive sequece is in the negative, collect those indeces to\n",
    "    # overlap list, other wise, collect the sequence\n",
    "    pos_seq = pos['sequence'].tolist()\n",
    "    neg_seq = neg['sequence'].tolist()\n",
    "#     print(pos_seq)\n",
    "    for n in neg_seq:\n",
    "        for p in pos_seq:\n",
    "            collect.append(n.replace(p, \"\"))\n",
    "    pd_seq = pd.DataFrame({'sequence':collect})\n",
    "    return pd_seq\n",
    "\n",
    "def subsample_negative(pos,neg,size):\n",
    "    '''\n",
    "    get the same number of negative sequence as have posistive\n",
    "    with same size elements (17)\n",
    "    make sure the sequences are not already in the positive set\n",
    "    make into panda with columns sequence and probablity\n",
    "    '''\n",
    "    collect = []\n",
    "    k = 17 # length of binding site\n",
    "    pos_list = pos['sequence'].tolist()\n",
    "\n",
    "    # for each negative row, while the number of sequences in the collected list\n",
    "    # is less than the size indicated to collect, continue collecting,\n",
    "    # unless the negative sequence is in the positive list\n",
    "    for i,n in neg.iterrows():\n",
    "        while len(collect) < size:\n",
    "            neg_str = n['sequence']\n",
    "            start = random.randint(0,len(neg_str)-k)\n",
    "            sub_string = neg_str[start:start+k]\n",
    "            if sub_string in pos_list:\n",
    "                continue\n",
    "            else:\n",
    "                collect.append(sub_string)\n",
    "    pd_seq = pd.DataFrame(collect)\n",
    "    pd_seq.columns = ['sequence']\n",
    "    pd_seq['probability'] = 0.0\n",
    "    return pd_seq\n",
    "\n",
    "def select_negatives(neg_file,seq_pos):\n",
    "    '''\n",
    "    run all the functions necessary to create the negative sequences data set\n",
    "    formated in the same way and complementry to the positives\n",
    "    '''\n",
    "    neg_read_fa = read_from_fa(neg_file)\n",
    "    neg_no_overlaps = remove_positives(seq_pos,neg_read_fa)\n",
    "    neg_subsample = subsample_negative(seq_pos,neg_no_overlaps,500)#len(pos_list*2)\n",
    "    neg_subsample['binary'] = [make_binary_sequence(seq) for seq in neg_subsample['sequence']]\n",
    "    return neg_subsample\n",
    "\n",
    "def make_binary_sequence(seq):\n",
    "    '''\n",
    "    convert the sequence into binary by exchanging each letter with a four\n",
    "    digit 1/0 code\n",
    "    '''\n",
    "    bin_seq = []\n",
    "    bin_dict = {\"A\": [1,0,0,0],\"C\": [0,1,0,0],\"G\": [0,0,1,0],\"T\": [0,0,0,1]}\n",
    "    temp = [bin_seq.append(bin_dict[s]) for s in seq]\n",
    "    return np.array(bin_seq).flatten()\n",
    "\n",
    "def make_training_and_holdout(df):\n",
    "    '''\n",
    "    shuffle the dataframe, then seperate into training and test sets with ratio 7:3\n",
    "    '''\n",
    "    # shuffle the entire df\n",
    "    df_shuffle = df.sample(frac=1).reset_index(drop=True)\n",
    "\n",
    "    # the cutoff value for seperating into training and test\n",
    "    # is at 70% of the seqneces\n",
    "    cutoff = int(len(df_shuffle)*.7)\n",
    "    train = df_shuffle[:cutoff]\n",
    "    test = df_shuffle[cutoff:]\n",
    "    return train,test\n",
    "\n",
    "def assemble_positive_dataset(file_pos):\n",
    "    # get positive sequences\n",
    "    read_pos = read_from_csv(file_pos,1.0)\n",
    "    # revrse complement\n",
    "    reverse = [reverse_complement_dictionary(i) for i in read_pos['sequence']]\n",
    "    pd_rev = pd.DataFrame(reverse,columns=['sequence'])\n",
    "    pd_rev['probability'] = 1.0\n",
    "    pd_rev['binary'] = [make_binary_sequence(seq) for seq in pd_rev['sequence']]\n",
    "    \n",
    "    # concat with reverse complement\n",
    "    seq_pos = pd.concat([read_pos,pd_rev])\n",
    "    return seq_pos  \n",
    "    \n",
    "def collect_datasets(file_pos,file_neg,file_test):\n",
    "    '''\n",
    "    get positive, negative, and test datasets\n",
    "    all in pandas, with sequence and probability columns\n",
    "    '''\n",
    "\n",
    "    # get test sequences\n",
    "    seq_test = read_from_csv(file_test,np.nan)\n",
    "\n",
    "    # get positive sequences\n",
    "    # 137 x 2 = 274\n",
    "    seq_pos = assemble_positive_dataset(file_pos)\n",
    "\n",
    "    # get negative sequences\n",
    "    seq_neg = select_negatives(file_neg,seq_pos)\n",
    "\n",
    "    # subsample the positive sequences in order to get the same number of pos\n",
    "    # as there are neg\n",
    "    collect = []\n",
    "    num_pos = len(seq_neg)-len(seq_pos)\n",
    "    for i in range(num_pos):\n",
    "        collect.append(seq_2.sample(1))\n",
    "    sample_pos = pd.concat(collect)\n",
    "\n",
    "    # concat pos and neg seq together\n",
    "    seq_all = pd.concat([seq_pos,seq_neg,sample_pos])\n",
    "\n",
    "    # get training and test sequences\n",
    "    seq_train,seq_hold = make_training_and_holdout(seq_all)\n",
    "\n",
    "    return seq_train,seq_hold,seq_test\n"
   ]
  },
  {
   "cell_type": "code",
   "execution_count": 131,
   "metadata": {},
   "outputs": [
    {
     "name": "stderr",
     "output_type": "stream",
     "text": [
      "/usr/local/lib/python3.7/site-packages/ipykernel_launcher.py:168: FutureWarning: Sorting because non-concatenation axis is not aligned. A future version\n",
      "of pandas will change to not sort by default.\n",
      "\n",
      "To accept the future behavior, pass 'sort=False'.\n",
      "\n",
      "To retain the current behavior and silence the warning, pass 'sort=True'.\n",
      "\n"
     ]
    }
   ],
   "source": [
    "seq_train,seq_hold,seq_test = collect_datasets(\n",
    "    'rap1-lieb-positives.txt',\n",
    "    'yeast-upstream-1k-negative.fa',\n",
    "    'rap1-lieb-test.txt')"
   ]
  },
  {
   "cell_type": "code",
   "execution_count": 158,
   "metadata": {},
   "outputs": [
    {
     "name": "stdout",
     "output_type": "stream",
     "text": [
      "Converged after 99 epochs\n",
      "final error: 0.38345734597156395\n",
      "[0. 1.] [0. 1.]\n",
      "0.5\n",
      "   probability           sequence\n",
      "0         0.86  AAAAAAACGCAACTAAT\n",
      "1         0.86  AAAAACACACATCTGGC\n",
      "2         0.86  AAAACCAAACACCTGAA\n",
      "3         0.86  AAAACCAAACAGCTCAG\n",
      "4         0.86  AAAACCAAACATATCAA\n"
     ]
    }
   ],
   "source": [
    "my_neurons = [68,34,17,9,3,1]\n",
    "epochs = 1000\n",
    "learning_rate = 20\n",
    "\n",
    "# get the columns from the panda into the correct format - np array\n",
    "x = np.array(pd.DataFrame(seq_train.binary.values.tolist()))\n",
    "y = np.array(pd.DataFrame(seq_train.probability.values.tolist()))\n",
    "test = np.array(pd.DataFrame(seq_test.binary.values.tolist()))\n",
    "\n",
    "# run on training\n",
    "NN = NeuralNetwork(my_neurons)\n",
    "error_list,epochs_run = NN.gradient_descent(x,y,epochs,learning_rate)\n",
    "print('final error: {0}'.format(error_list[-1]))\n",
    "predictions,_ = NN.feed_forward(x)\n",
    "fpr,tpr,_=roc_curve(y,predictions[-1])\n",
    "roc_auc=auc(fpr, tpr)\n",
    "print(fpr,tpr)\n",
    "print(roc_auc)\n",
    "\n",
    "# run on test, make prediction on probabilty of binding, print to\n",
    "# file with original sequence\n",
    "predictions,_ = NN.feed_forward(test)\n",
    "pd_p = pd.DataFrame(predictions[-1])\n",
    "pd_p.columns = ['probability']\n",
    "pd_predict = pd_p.join(seq_test['sequence'])\n",
    "print(pd_predict.head())\n",
    "pd_predict.to_csv('probabilities.txt',sep='\\t',header=False,index=False)"
   ]
  },
  {
   "cell_type": "code",
   "execution_count": 159,
   "metadata": {},
   "outputs": [
    {
     "data": {
      "text/plain": [
       "Text(0.5,1,'roc plot')"
      ]
     },
     "execution_count": 159,
     "metadata": {},
     "output_type": "execute_result"
    },
    {
     "data": {
      "image/png": "[encoded data removed]",
      "text/plain": [
       "<Figure size 432x288 with 1 Axes>"
      ]
     },
     "metadata": {
      "needs_background": "light"
     },
     "output_type": "display_data"
    }
   ],
   "source": [
    "plt.plot(fpr,tpr)\n",
    "plt.title(\"roc plot\")"
   ]
  },
  {
   "cell_type": "code",
   "execution_count": 181,
   "metadata": {},
   "outputs": [
    {
     "name": "stdout",
     "output_type": "stream",
     "text": [
      "Converged after 99 epochs\n",
      "Converged after 99 epochs\n",
      "Converged after 99 epochs\n",
      "Converged after 99 epochs\n",
      "Converged after 99 epochs\n",
      "Converged after 99 epochs\n",
      "Converged after 99 epochs\n",
      "Converged after 99 epochs\n",
      "Converged after 99 epochs\n",
      "Converged after 99 epochs\n",
      "Converged after 99 epochs\n",
      "Converged after 99 epochs\n",
      "Converged after 99 epochs\n",
      "Converged after 99 epochs\n",
      "Converged after 99 epochs\n",
      "Converged after 99 epochs\n",
      "Converged after 99 epochs\n",
      "Converged after 99 epochs\n",
      "Converged after 99 epochs\n",
      "Converged after 99 epochs\n",
      "Converged after 99 epochs\n",
      "Converged after 99 epochs\n",
      "Converged after 99 epochs\n",
      "Converged after 99 epochs\n",
      "Converged after 99 epochs\n",
      "Converged after 99 epochs\n",
      "Converged after 99 epochs\n",
      "Converged after 99 epochs\n",
      "Converged after 99 epochs\n",
      "Converged after 99 epochs\n",
      "Converged after 99 epochs\n",
      "Converged after 99 epochs\n",
      "Converged after 99 epochs\n",
      "Converged after 99 epochs\n",
      "Converged after 99 epochs\n",
      "Converged after 99 epochs\n",
      "    0    1   2  3         4     5    6                                 7  \\\n",
      "0   6   10   9  5  0.296254  0.86  0.0  [0.0, 0.019830028328611898, 1.0]   \n",
      "1  11   10   9  5  0.296960  0.86  0.0                        [0.0, 1.0]   \n",
      "2  16   10   9  5  0.294500  0.86  0.0                        [0.0, 1.0]   \n",
      "3   6  100  99  5  0.277739  0.86  0.0                        [0.0, 1.0]   \n",
      "4  11  100  99  5  0.292256  0.86  0.0                        [0.0, 1.0]   \n",
      "\n",
      "                                 8        9  \n",
      "0  [0.0, 0.45244956772334294, 1.0]  0.71631  \n",
      "1                       [0.0, 1.0]  0.50000  \n",
      "2                       [0.0, 1.0]  0.50000  \n",
      "3                       [0.0, 1.0]  0.50000  \n",
      "4                       [0.0, 1.0]  0.50000  \n"
     ]
    }
   ],
   "source": [
    "# from sklearn.model_selection import cross_val_score\n",
    "# run on training\n",
    "\n",
    "learning_rates = [5,10,25,50,75,100]\n",
    "epochs = [10,100,1000]\n",
    "hidden = [[68,34,17,9,3,1],[68,68,34,34,17,17,9,9,3,3,1],[68,68,68,34,34,34,17,17,17,9,9,9,3,3,3,1]]\n",
    "x = np.array(pd.DataFrame(seq_train.binary.values.tolist()))\n",
    "y = np.array(pd.DataFrame(seq_train.probability.values.tolist()))\n",
    "test = np.array(pd.DataFrame(seq_test.binary.values.tolist()))\n",
    "\n",
    "collect = []\n",
    "for l in learning_rates:\n",
    "    for e in epochs:\n",
    "        for h in hidden:\n",
    "            NN = NeuralNetwork(h)\n",
    "            error_list,epochs_run = NN.gradient_descent(x,y,e,l)\n",
    "            predictions,_ = NN.feed_forward(x)\n",
    "            fpr,tpr,_=roc_curve(y,predictions[-1])\n",
    "            roc_auc=auc(fpr, tpr)\n",
    "#             pd_p = pd.DataFrame(predictions[-1])\n",
    "#             pd_p.columns = ['probability']\n",
    "#             pd_predict = pd_p.join(seq_test['sequence'])\n",
    "            collect.append([len(h),e,epochs_run,l,error_list[-1],pd_p['probability'].mean(),pd_p['probability'].std(),fpr,tpr,roc_auc])\n",
    "pd_params = pd.DataFrame(collect)\n",
    "print(pd_params.head())"
   ]
  },
  {
   "cell_type": "code",
   "execution_count": 182,
   "metadata": {},
   "outputs": [],
   "source": [
    "pd_params.columns = ['layer_num','epochs','epochs_run','learning_rate','final_error','ave_prob','std_prob','fpr','tpr','auc']\n",
    "pd_params.to_csv('params.txt',sep='\\t',header=True,index=False)\n",
    "\n",
    "# blind test judged by area under ROC curve\n",
    "# apply training with parameters/procedure optimized for in cross-validataion to all avail training data"
   ]
  },
  {
   "cell_type": "code",
   "execution_count": 183,
   "metadata": {},
   "outputs": [
    {
     "name": "stdout",
     "output_type": "stream",
     "text": [
      "   layer_num  epochs  epochs_run  learning_rate  final_error  ave_prob  \\\n",
      "0          6      10           9              5     0.296254      0.86   \n",
      "1         11      10           9              5     0.296960      0.86   \n",
      "2         16      10           9              5     0.294500      0.86   \n",
      "3          6     100          99              5     0.277739      0.86   \n",
      "4         11     100          99              5     0.292256      0.86   \n",
      "\n",
      "   std_prob                               fpr  \\\n",
      "0       0.0  [0.0, 0.019830028328611898, 1.0]   \n",
      "1       0.0                        [0.0, 1.0]   \n",
      "2       0.0                        [0.0, 1.0]   \n",
      "3       0.0                        [0.0, 1.0]   \n",
      "4       0.0                        [0.0, 1.0]   \n",
      "\n",
      "                               tpr      auc  \n",
      "0  [0.0, 0.45244956772334294, 1.0]  0.71631  \n",
      "1                       [0.0, 1.0]  0.50000  \n",
      "2                       [0.0, 1.0]  0.50000  \n",
      "3                       [0.0, 1.0]  0.50000  \n",
      "4                       [0.0, 1.0]  0.50000  \n"
     ]
    }
   ],
   "source": [
    "print(pd_params.head())"
   ]
  },
  {
   "cell_type": "code",
   "execution_count": 175,
   "metadata": {},
   "outputs": [
    {
     "data": {
      "text/plain": [
       "<matplotlib.axes._subplots.AxesSubplot at 0x1132ace10>"
      ]
     },
     "execution_count": 175,
     "metadata": {},
     "output_type": "execute_result"
    },
    {
     "data": {
      "image/png": "[encoded data removed]",
      "text/plain": [
       "<Figure size 720x720 with 2 Axes>"
      ]
     },
     "metadata": {},
     "output_type": "display_data"
    }
   ],
   "source": [
    "import seaborn as sns\n",
    "import matplotlib.gridspec as gridspec\n",
    "\n",
    "heat_params = pd_params[['learning_rate','final_error']]\n",
    "group_params = heat_params.groupby('learning_rate')['final_error'].mean().reset_index()\n",
    "group_params.set_index('learning_rate',drop=True,inplace=True)\n",
    "\n",
    "sns.set_style('ticks')\n",
    "sns.set_palette(\"husl\")\n",
    "gs = gridspec.GridSpec(3,2,height_ratios=[1,1,1],width_ratios=[1,1])\n",
    "gs.update(hspace=.75)\n",
    "gs.update(wspace=.5)\n",
    "fig = plt.figure(figsize=(10,10))\n",
    "ax1 = plt.subplot(gs[0,0])\n",
    "sns.heatmap(group_params,ax=ax1)"
   ]
  },
  {
   "cell_type": "code",
   "execution_count": 220,
   "metadata": {},
   "outputs": [
    {
     "ename": "KeyError",
     "evalue": "'fpr'",
     "output_type": "error",
     "traceback": [
      "\u001b[0;31m---------------------------------------------------------------------------\u001b[0m",
      "\u001b[0;31mKeyError\u001b[0m                                  Traceback (most recent call last)",
      "\u001b[0;32m/usr/local/lib/python3.7/site-packages/pandas/core/indexes/base.py\u001b[0m in \u001b[0;36mget_loc\u001b[0;34m(self, key, method, tolerance)\u001b[0m\n\u001b[1;32m   3077\u001b[0m             \u001b[0;32mtry\u001b[0m\u001b[0;34m:\u001b[0m\u001b[0;34m\u001b[0m\u001b[0;34m\u001b[0m\u001b[0m\n\u001b[0;32m-> 3078\u001b[0;31m                 \u001b[0;32mreturn\u001b[0m \u001b[0mself\u001b[0m\u001b[0;34m.\u001b[0m\u001b[0m_engine\u001b[0m\u001b[0;34m.\u001b[0m\u001b[0mget_loc\u001b[0m\u001b[0;34m(\u001b[0m\u001b[0mkey\u001b[0m\u001b[0;34m)\u001b[0m\u001b[0;34m\u001b[0m\u001b[0;34m\u001b[0m\u001b[0m\n\u001b[0m\u001b[1;32m   3079\u001b[0m             \u001b[0;32mexcept\u001b[0m \u001b[0mKeyError\u001b[0m\u001b[0;34m:\u001b[0m\u001b[0;34m\u001b[0m\u001b[0;34m\u001b[0m\u001b[0m\n",
      "\u001b[0;32mpandas/_libs/index.pyx\u001b[0m in \u001b[0;36mpandas._libs.index.IndexEngine.get_loc\u001b[0;34m()\u001b[0m\n",
      "\u001b[0;32mpandas/_libs/index.pyx\u001b[0m in \u001b[0;36mpandas._libs.index.IndexEngine.get_loc\u001b[0;34m()\u001b[0m\n",
      "\u001b[0;32mpandas/_libs/hashtable_class_helper.pxi\u001b[0m in \u001b[0;36mpandas._libs.hashtable.PyObjectHashTable.get_item\u001b[0;34m()\u001b[0m\n",
      "\u001b[0;32mpandas/_libs/hashtable_class_helper.pxi\u001b[0m in \u001b[0;36mpandas._libs.hashtable.PyObjectHashTable.get_item\u001b[0;34m()\u001b[0m\n",
      "\u001b[0;31mKeyError\u001b[0m: 'fpr'",
      "\nDuring handling of the above exception, another exception occurred:\n",
      "\u001b[0;31mKeyError\u001b[0m                                  Traceback (most recent call last)",
      "\u001b[0;32m<ipython-input-220-9e0d07fe36a0>\u001b[0m in \u001b[0;36m<module>\u001b[0;34m()\u001b[0m\n\u001b[1;32m      3\u001b[0m \u001b[0;31m# hidden = [[68,34,17,9,3,1],[68,68,34,34,17,17,9,9,3,3,1],[68,68,68,34,34,34,17,17,17,9,9,9,3,3,3,1]]\u001b[0m\u001b[0;34m\u001b[0m\u001b[0;34m\u001b[0m\u001b[0;34m\u001b[0m\u001b[0m\n\u001b[1;32m      4\u001b[0m \u001b[0msub_params\u001b[0m \u001b[0;34m=\u001b[0m\u001b[0mheat_params\u001b[0m\u001b[0;34m[\u001b[0m\u001b[0mheat_params\u001b[0m\u001b[0;34m[\u001b[0m\u001b[0;34m'learning_rate'\u001b[0m\u001b[0;34m]\u001b[0m\u001b[0;34m==\u001b[0m\u001b[0;36m5\u001b[0m\u001b[0;34m]\u001b[0m\u001b[0;34m\u001b[0m\u001b[0;34m\u001b[0m\u001b[0m\n\u001b[0;32m----> 5\u001b[0;31m \u001b[0mx\u001b[0m \u001b[0;34m=\u001b[0m \u001b[0msub_params\u001b[0m\u001b[0;34m[\u001b[0m\u001b[0;34m'fpr'\u001b[0m\u001b[0;34m]\u001b[0m\u001b[0;34m[\u001b[0m\u001b[0;36m1\u001b[0m\u001b[0;34m]\u001b[0m\u001b[0;34m\u001b[0m\u001b[0;34m\u001b[0m\u001b[0m\n\u001b[0m\u001b[1;32m      6\u001b[0m \u001b[0my\u001b[0m \u001b[0;34m=\u001b[0m \u001b[0msub_params\u001b[0m\u001b[0;34m[\u001b[0m\u001b[0;34m'tpr'\u001b[0m\u001b[0;34m]\u001b[0m\u001b[0;34m[\u001b[0m\u001b[0;36m1\u001b[0m\u001b[0;34m]\u001b[0m\u001b[0;34m\u001b[0m\u001b[0;34m\u001b[0m\u001b[0m\n\u001b[1;32m      7\u001b[0m \u001b[0mplt\u001b[0m\u001b[0;34m.\u001b[0m\u001b[0mplot\u001b[0m\u001b[0;34m(\u001b[0m\u001b[0mx\u001b[0m\u001b[0;34m,\u001b[0m\u001b[0my\u001b[0m\u001b[0;34m)\u001b[0m\u001b[0;34m\u001b[0m\u001b[0;34m\u001b[0m\u001b[0m\n",
      "\u001b[0;32m/usr/local/lib/python3.7/site-packages/pandas/core/frame.py\u001b[0m in \u001b[0;36m__getitem__\u001b[0;34m(self, key)\u001b[0m\n\u001b[1;32m   2686\u001b[0m             \u001b[0;32mreturn\u001b[0m \u001b[0mself\u001b[0m\u001b[0;34m.\u001b[0m\u001b[0m_getitem_multilevel\u001b[0m\u001b[0;34m(\u001b[0m\u001b[0mkey\u001b[0m\u001b[0;34m)\u001b[0m\u001b[0;34m\u001b[0m\u001b[0;34m\u001b[0m\u001b[0m\n\u001b[1;32m   2687\u001b[0m         \u001b[0;32melse\u001b[0m\u001b[0;34m:\u001b[0m\u001b[0;34m\u001b[0m\u001b[0;34m\u001b[0m\u001b[0m\n\u001b[0;32m-> 2688\u001b[0;31m             \u001b[0;32mreturn\u001b[0m \u001b[0mself\u001b[0m\u001b[0;34m.\u001b[0m\u001b[0m_getitem_column\u001b[0m\u001b[0;34m(\u001b[0m\u001b[0mkey\u001b[0m\u001b[0;34m)\u001b[0m\u001b[0;34m\u001b[0m\u001b[0;34m\u001b[0m\u001b[0m\n\u001b[0m\u001b[1;32m   2689\u001b[0m \u001b[0;34m\u001b[0m\u001b[0m\n\u001b[1;32m   2690\u001b[0m     \u001b[0;32mdef\u001b[0m \u001b[0m_getitem_column\u001b[0m\u001b[0;34m(\u001b[0m\u001b[0mself\u001b[0m\u001b[0;34m,\u001b[0m \u001b[0mkey\u001b[0m\u001b[0;34m)\u001b[0m\u001b[0;34m:\u001b[0m\u001b[0;34m\u001b[0m\u001b[0;34m\u001b[0m\u001b[0m\n",
      "\u001b[0;32m/usr/local/lib/python3.7/site-packages/pandas/core/frame.py\u001b[0m in \u001b[0;36m_getitem_column\u001b[0;34m(self, key)\u001b[0m\n\u001b[1;32m   2693\u001b[0m         \u001b[0;31m# get column\u001b[0m\u001b[0;34m\u001b[0m\u001b[0;34m\u001b[0m\u001b[0;34m\u001b[0m\u001b[0m\n\u001b[1;32m   2694\u001b[0m         \u001b[0;32mif\u001b[0m \u001b[0mself\u001b[0m\u001b[0;34m.\u001b[0m\u001b[0mcolumns\u001b[0m\u001b[0;34m.\u001b[0m\u001b[0mis_unique\u001b[0m\u001b[0;34m:\u001b[0m\u001b[0;34m\u001b[0m\u001b[0;34m\u001b[0m\u001b[0m\n\u001b[0;32m-> 2695\u001b[0;31m             \u001b[0;32mreturn\u001b[0m \u001b[0mself\u001b[0m\u001b[0;34m.\u001b[0m\u001b[0m_get_item_cache\u001b[0m\u001b[0;34m(\u001b[0m\u001b[0mkey\u001b[0m\u001b[0;34m)\u001b[0m\u001b[0;34m\u001b[0m\u001b[0;34m\u001b[0m\u001b[0m\n\u001b[0m\u001b[1;32m   2696\u001b[0m \u001b[0;34m\u001b[0m\u001b[0m\n\u001b[1;32m   2697\u001b[0m         \u001b[0;31m# duplicate columns & possible reduce dimensionality\u001b[0m\u001b[0;34m\u001b[0m\u001b[0;34m\u001b[0m\u001b[0;34m\u001b[0m\u001b[0m\n",
      "\u001b[0;32m/usr/local/lib/python3.7/site-packages/pandas/core/generic.py\u001b[0m in \u001b[0;36m_get_item_cache\u001b[0;34m(self, item)\u001b[0m\n\u001b[1;32m   2487\u001b[0m         \u001b[0mres\u001b[0m \u001b[0;34m=\u001b[0m \u001b[0mcache\u001b[0m\u001b[0;34m.\u001b[0m\u001b[0mget\u001b[0m\u001b[0;34m(\u001b[0m\u001b[0mitem\u001b[0m\u001b[0;34m)\u001b[0m\u001b[0;34m\u001b[0m\u001b[0;34m\u001b[0m\u001b[0m\n\u001b[1;32m   2488\u001b[0m         \u001b[0;32mif\u001b[0m \u001b[0mres\u001b[0m \u001b[0;32mis\u001b[0m \u001b[0;32mNone\u001b[0m\u001b[0;34m:\u001b[0m\u001b[0;34m\u001b[0m\u001b[0;34m\u001b[0m\u001b[0m\n\u001b[0;32m-> 2489\u001b[0;31m             \u001b[0mvalues\u001b[0m \u001b[0;34m=\u001b[0m \u001b[0mself\u001b[0m\u001b[0;34m.\u001b[0m\u001b[0m_data\u001b[0m\u001b[0;34m.\u001b[0m\u001b[0mget\u001b[0m\u001b[0;34m(\u001b[0m\u001b[0mitem\u001b[0m\u001b[0;34m)\u001b[0m\u001b[0;34m\u001b[0m\u001b[0;34m\u001b[0m\u001b[0m\n\u001b[0m\u001b[1;32m   2490\u001b[0m             \u001b[0mres\u001b[0m \u001b[0;34m=\u001b[0m \u001b[0mself\u001b[0m\u001b[0;34m.\u001b[0m\u001b[0m_box_item_values\u001b[0m\u001b[0;34m(\u001b[0m\u001b[0mitem\u001b[0m\u001b[0;34m,\u001b[0m \u001b[0mvalues\u001b[0m\u001b[0;34m)\u001b[0m\u001b[0;34m\u001b[0m\u001b[0;34m\u001b[0m\u001b[0m\n\u001b[1;32m   2491\u001b[0m             \u001b[0mcache\u001b[0m\u001b[0;34m[\u001b[0m\u001b[0mitem\u001b[0m\u001b[0;34m]\u001b[0m \u001b[0;34m=\u001b[0m \u001b[0mres\u001b[0m\u001b[0;34m\u001b[0m\u001b[0;34m\u001b[0m\u001b[0m\n",
      "\u001b[0;32m/usr/local/lib/python3.7/site-packages/pandas/core/internals.py\u001b[0m in \u001b[0;36mget\u001b[0;34m(self, item, fastpath)\u001b[0m\n\u001b[1;32m   4113\u001b[0m \u001b[0;34m\u001b[0m\u001b[0m\n\u001b[1;32m   4114\u001b[0m             \u001b[0;32mif\u001b[0m \u001b[0;32mnot\u001b[0m \u001b[0misna\u001b[0m\u001b[0;34m(\u001b[0m\u001b[0mitem\u001b[0m\u001b[0;34m)\u001b[0m\u001b[0;34m:\u001b[0m\u001b[0;34m\u001b[0m\u001b[0;34m\u001b[0m\u001b[0m\n\u001b[0;32m-> 4115\u001b[0;31m                 \u001b[0mloc\u001b[0m \u001b[0;34m=\u001b[0m \u001b[0mself\u001b[0m\u001b[0;34m.\u001b[0m\u001b[0mitems\u001b[0m\u001b[0;34m.\u001b[0m\u001b[0mget_loc\u001b[0m\u001b[0;34m(\u001b[0m\u001b[0mitem\u001b[0m\u001b[0;34m)\u001b[0m\u001b[0;34m\u001b[0m\u001b[0;34m\u001b[0m\u001b[0m\n\u001b[0m\u001b[1;32m   4116\u001b[0m             \u001b[0;32melse\u001b[0m\u001b[0;34m:\u001b[0m\u001b[0;34m\u001b[0m\u001b[0;34m\u001b[0m\u001b[0m\n\u001b[1;32m   4117\u001b[0m                 \u001b[0mindexer\u001b[0m \u001b[0;34m=\u001b[0m \u001b[0mnp\u001b[0m\u001b[0;34m.\u001b[0m\u001b[0marange\u001b[0m\u001b[0;34m(\u001b[0m\u001b[0mlen\u001b[0m\u001b[0;34m(\u001b[0m\u001b[0mself\u001b[0m\u001b[0;34m.\u001b[0m\u001b[0mitems\u001b[0m\u001b[0;34m)\u001b[0m\u001b[0;34m)\u001b[0m\u001b[0;34m[\u001b[0m\u001b[0misna\u001b[0m\u001b[0;34m(\u001b[0m\u001b[0mself\u001b[0m\u001b[0;34m.\u001b[0m\u001b[0mitems\u001b[0m\u001b[0;34m)\u001b[0m\u001b[0;34m]\u001b[0m\u001b[0;34m\u001b[0m\u001b[0;34m\u001b[0m\u001b[0m\n",
      "\u001b[0;32m/usr/local/lib/python3.7/site-packages/pandas/core/indexes/base.py\u001b[0m in \u001b[0;36mget_loc\u001b[0;34m(self, key, method, tolerance)\u001b[0m\n\u001b[1;32m   3078\u001b[0m                 \u001b[0;32mreturn\u001b[0m \u001b[0mself\u001b[0m\u001b[0;34m.\u001b[0m\u001b[0m_engine\u001b[0m\u001b[0;34m.\u001b[0m\u001b[0mget_loc\u001b[0m\u001b[0;34m(\u001b[0m\u001b[0mkey\u001b[0m\u001b[0;34m)\u001b[0m\u001b[0;34m\u001b[0m\u001b[0;34m\u001b[0m\u001b[0m\n\u001b[1;32m   3079\u001b[0m             \u001b[0;32mexcept\u001b[0m \u001b[0mKeyError\u001b[0m\u001b[0;34m:\u001b[0m\u001b[0;34m\u001b[0m\u001b[0;34m\u001b[0m\u001b[0m\n\u001b[0;32m-> 3080\u001b[0;31m                 \u001b[0;32mreturn\u001b[0m \u001b[0mself\u001b[0m\u001b[0;34m.\u001b[0m\u001b[0m_engine\u001b[0m\u001b[0;34m.\u001b[0m\u001b[0mget_loc\u001b[0m\u001b[0;34m(\u001b[0m\u001b[0mself\u001b[0m\u001b[0;34m.\u001b[0m\u001b[0m_maybe_cast_indexer\u001b[0m\u001b[0;34m(\u001b[0m\u001b[0mkey\u001b[0m\u001b[0;34m)\u001b[0m\u001b[0;34m)\u001b[0m\u001b[0;34m\u001b[0m\u001b[0;34m\u001b[0m\u001b[0m\n\u001b[0m\u001b[1;32m   3081\u001b[0m \u001b[0;34m\u001b[0m\u001b[0m\n\u001b[1;32m   3082\u001b[0m         \u001b[0mindexer\u001b[0m \u001b[0;34m=\u001b[0m \u001b[0mself\u001b[0m\u001b[0;34m.\u001b[0m\u001b[0mget_indexer\u001b[0m\u001b[0;34m(\u001b[0m\u001b[0;34m[\u001b[0m\u001b[0mkey\u001b[0m\u001b[0;34m]\u001b[0m\u001b[0;34m,\u001b[0m \u001b[0mmethod\u001b[0m\u001b[0;34m=\u001b[0m\u001b[0mmethod\u001b[0m\u001b[0;34m,\u001b[0m \u001b[0mtolerance\u001b[0m\u001b[0;34m=\u001b[0m\u001b[0mtolerance\u001b[0m\u001b[0;34m)\u001b[0m\u001b[0;34m\u001b[0m\u001b[0;34m\u001b[0m\u001b[0m\n",
      "\u001b[0;32mpandas/_libs/index.pyx\u001b[0m in \u001b[0;36mpandas._libs.index.IndexEngine.get_loc\u001b[0;34m()\u001b[0m\n",
      "\u001b[0;32mpandas/_libs/index.pyx\u001b[0m in \u001b[0;36mpandas._libs.index.IndexEngine.get_loc\u001b[0;34m()\u001b[0m\n",
      "\u001b[0;32mpandas/_libs/hashtable_class_helper.pxi\u001b[0m in \u001b[0;36mpandas._libs.hashtable.PyObjectHashTable.get_item\u001b[0;34m()\u001b[0m\n",
      "\u001b[0;32mpandas/_libs/hashtable_class_helper.pxi\u001b[0m in \u001b[0;36mpandas._libs.hashtable.PyObjectHashTable.get_item\u001b[0;34m()\u001b[0m\n",
      "\u001b[0;31mKeyError\u001b[0m: 'fpr'"
     ]
    }
   ],
   "source": [
    "# learning_rates = [5,10,25,50,75,100]\n",
    "# epochs = [10,100,1000]\n",
    "# hidden = [[68,34,17,9,3,1],[68,68,34,34,17,17,9,9,3,3,1],[68,68,68,34,34,34,17,17,17,9,9,9,3,3,3,1]]\n",
    "sub_params = pd_params[pd_params['learning_rate']==5]\n",
    "x = sub_params['fpr'][1]\n",
    "y = sub_params['tpr'][1]\n",
    "plt.plot(x,y)\n",
    "plt.title(\"roc plot\")"
   ]
  },
  {
   "cell_type": "code",
   "execution_count": 186,
   "metadata": {},
   "outputs": [
    {
     "data": {
      "text/plain": [
       "<matplotlib.axes._subplots.AxesSubplot at 0x112cff320>"
      ]
     },
     "execution_count": 186,
     "metadata": {},
     "output_type": "execute_result"
    },
    {
     "data": {
      "image/png": "[encoded data removed]",
      "text/plain": [
       "<Figure size 720x720 with 2 Axes>"
      ]
     },
     "metadata": {},
     "output_type": "display_data"
    }
   ],
   "source": [
    "# sub_params = pd_params[pd_params['epochs_run']==9]\n",
    "heat_params = pd_params[['learning_rate','auc']]\n",
    "group_params = heat_params.groupby('learning_rate')['auc'].mean().reset_index()\n",
    "group_params.set_index('learning_rate',drop=True,inplace=True)\n",
    "\n",
    "sns.set_style('ticks')\n",
    "sns.set_palette(\"husl\")\n",
    "gs = gridspec.GridSpec(3,2,height_ratios=[1,1,1],width_ratios=[1,1])\n",
    "gs.update(hspace=.75)\n",
    "gs.update(wspace=.5)\n",
    "fig = plt.figure(figsize=(10,10))\n",
    "ax1 = plt.subplot(gs[0,0])\n",
    "sns.heatmap(group_params,ax=ax1)"
   ]
  },
  {
   "cell_type": "code",
   "execution_count": null,
   "metadata": {},
   "outputs": [],
   "source": []
  }
 ],
 "metadata": {
  "kernelspec": {
   "display_name": "Python 3",
   "language": "python",
   "name": "python3"
  },
  "language_info": {
   "codemirror_mode": {
    "name": "ipython",
    "version": 3
   },
   "file_extension": ".py",
   "mimetype": "text/x-python",
   "name": "python",
   "nbconvert_exporter": "python",
   "pygments_lexer": "ipython3",
   "version": "3.7.1"
  }
 },
 "nbformat": 4,
 "nbformat_minor": 2
}
